{
 "cells": [
  {
   "cell_type": "code",
   "execution_count": 8,
   "id": "f7bbfb60",
   "metadata": {
    "ExecuteTime": {
     "end_time": "2022-12-01T04:58:50.665847Z",
     "start_time": "2022-12-01T04:58:50.640021Z"
    }
   },
   "outputs": [
    {
     "data": {
      "application/vnd.jupyter.widget-view+json": {
       "model_id": "316a85587a2d4130b7f6b9afb28f5b26",
       "version_major": 2,
       "version_minor": 0
      },
      "text/plain": [
       "0it [00:00, ?it/s]"
      ]
     },
     "metadata": {},
     "output_type": "display_data"
    }
   ],
   "source": [
    "import logging\n",
    "import os\n",
    "from collections import OrderedDict\n",
    "import json\n",
    "try:\n",
    "    get_ipython\n",
    "    from tqdm.notebook import tqdm as tqdm\n",
    "except:\n",
    "    from tqdm import tqdm\n",
    "finally:\n",
    "    tqdm().pandas()\n",
    "\n",
    "logger = logging.getLogger(__name__)"
   ]
  },
  {
   "cell_type": "code",
   "execution_count": 9,
   "id": "f912f5a8",
   "metadata": {
    "ExecuteTime": {
     "end_time": "2022-12-01T04:58:51.293313Z",
     "start_time": "2022-12-01T04:58:51.290800Z"
    }
   },
   "outputs": [],
   "source": [
    "data_name=\"medical\"\n",
    "TRAIN_DATA_DIR=f\"train/{data_name}\"\n",
    "DEV_DATA_DIR=f\"dev/{data_name}\""
   ]
  },
  {
   "cell_type": "code",
   "execution_count": 31,
   "id": "30641fee",
   "metadata": {
    "ExecuteTime": {
     "end_time": "2022-12-01T05:24:30.676505Z",
     "start_time": "2022-12-01T05:22:37.564739Z"
    },
    "scrolled": false
   },
   "outputs": [
    {
     "data": {
      "application/vnd.jupyter.widget-view+json": {
       "model_id": "b20fbf38dd074be1bb3155911f8717b2",
       "version_major": 2,
       "version_minor": 0
      },
      "text/plain": [
       "0it [00:00, ?it/s]"
      ]
     },
     "metadata": {},
     "output_type": "display_data"
    }
   ],
   "source": [
    "max_len = 0\n",
    "with open(os.path.join(TRAIN_DATA_DIR, \"train.group.fixed.json\"), \"w\") as fout:\n",
    "    with open(os.path.join(TRAIN_DATA_DIR, \"train.group.json\")) as fin:\n",
    "        for line in tqdm(fin):\n",
    "            item = json.loads(line)\n",
    "            qry = item['qry']['query']\n",
    "            new_pos = []\n",
    "            for pos in item['pos']:\n",
    "                max_len = max(max_len, len(qry)+len(pos))\n",
    "                if max_len <=253:\n",
    "                    new_pos.append(pos)\n",
    "            new_neg = []\n",
    "            for neg in item['neg']:\n",
    "                max_len = max(max_len, len(qry)+len(neg))\n",
    "                if max_len <=253:\n",
    "                    new_neg.append(neg)\n",
    "            item['pos'] = new_pos\n",
    "            item['neg'] = new_neg\n",
    "            fout.write(json.dumps(item)+\"\\n\")"
   ]
  },
  {
   "cell_type": "code",
   "execution_count": 32,
   "id": "6d33bbb8",
   "metadata": {
    "ExecuteTime": {
     "end_time": "2022-12-01T05:24:35.115914Z",
     "start_time": "2022-12-01T05:24:35.111954Z"
    }
   },
   "outputs": [
    {
     "data": {
      "text/plain": [
       "258"
      ]
     },
     "execution_count": 32,
     "metadata": {},
     "output_type": "execute_result"
    }
   ],
   "source": [
    "max_len"
   ]
  },
  {
   "cell_type": "code",
   "execution_count": null,
   "id": "5a6e6c5d",
   "metadata": {},
   "outputs": [],
   "source": []
  }
 ],
 "metadata": {
  "kernelspec": {
   "display_name": "Python 3",
   "language": "python",
   "name": "python3"
  },
  "language_info": {
   "codemirror_mode": {
    "name": "ipython",
    "version": 3
   },
   "file_extension": ".py",
   "mimetype": "text/x-python",
   "name": "python",
   "nbconvert_exporter": "python",
   "pygments_lexer": "ipython3",
   "version": "3.7.13"
  },
  "toc": {
   "base_numbering": 1,
   "nav_menu": {},
   "number_sections": true,
   "sideBar": true,
   "skip_h1_title": false,
   "title_cell": "Table of Contents",
   "title_sidebar": "Contents",
   "toc_cell": false,
   "toc_position": {},
   "toc_section_display": true,
   "toc_window_display": false
  }
 },
 "nbformat": 4,
 "nbformat_minor": 5
}
