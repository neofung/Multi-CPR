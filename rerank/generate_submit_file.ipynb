{
 "cells": [
  {
   "cell_type": "code",
   "execution_count": 14,
   "id": "c08278dd",
   "metadata": {
    "ExecuteTime": {
     "end_time": "2022-11-24T11:18:20.201498Z",
     "start_time": "2022-11-24T11:18:20.177558Z"
    }
   },
   "outputs": [
    {
     "data": {
      "application/vnd.jupyter.widget-view+json": {
       "model_id": "cb75d0534c994ddb95c3aa8053c2bf20",
       "version_major": 2,
       "version_minor": 0
      },
      "text/plain": [
       "0it [00:00, ?it/s]"
      ]
     },
     "metadata": {},
     "output_type": "display_data"
    }
   ],
   "source": [
    "import logging\n",
    "import os\n",
    "from collections import OrderedDict\n",
    "try:\n",
    "    get_ipython\n",
    "    from tqdm.notebook import tqdm as tqdm\n",
    "except:\n",
    "    from tqdm import tqdm\n",
    "finally:\n",
    "    tqdm().pandas()\n",
    "\n",
    "logger = logging.getLogger(__name__)"
   ]
  },
  {
   "cell_type": "code",
   "execution_count": 15,
   "id": "39e5f92d",
   "metadata": {
    "ExecuteTime": {
     "end_time": "2022-11-24T11:18:24.231841Z",
     "start_time": "2022-11-24T11:18:22.397126Z"
    }
   },
   "outputs": [
    {
     "data": {
      "application/vnd.jupyter.widget-view+json": {
       "model_id": "e9561fc16db843669ec5471839db239c",
       "version_major": 2,
       "version_minor": 0
      },
      "text/plain": [
       "  0%|          | 0/1000000 [00:00<?, ?it/s]"
      ]
     },
     "metadata": {},
     "output_type": "display_data"
    },
    {
     "data": {
      "application/vnd.jupyter.widget-view+json": {
       "model_id": "37647b55330f4891b953c8c787398449",
       "version_major": 2,
       "version_minor": 0
      },
      "text/plain": [
       "  0%|          | 0/1000 [00:00<?, ?it/s]"
      ]
     },
     "metadata": {},
     "output_type": "display_data"
    }
   ],
   "source": [
    "for file_path in [\"result/ecom_bert_base_rank_res\"]:\n",
    "    scenario = file_path.split(\"/\")[-1].split(\"_\")[0]\n",
    "    results = OrderedDict()\n",
    "    with open(file_path) as fin:\n",
    "        for line in tqdm(fin.readlines()):\n",
    "            qid, _, pid, _, score, _ = line.split(\" \")\n",
    "            if qid not in results:\n",
    "                results[qid] = []\n",
    "            results[qid].append((pid, float(score)))\n",
    "    with open(f\"result/{scenario}_test.tsv\", \"w\") as fout:\n",
    "        for key,values in tqdm(results.items(), total=len(results)):\n",
    "            values = sorted(values, key = lambda x:x[1], reverse=True)\n",
    "            values = [t[0] for t in values]\n",
    "            fout.write(f\"{key}\\t{','.join(values[:10])}\\n\")"
   ]
  },
  {
   "cell_type": "code",
   "execution_count": null,
   "id": "8c447143",
   "metadata": {},
   "outputs": [],
   "source": []
  }
 ],
 "metadata": {
  "kernelspec": {
   "display_name": "Python 3",
   "language": "python",
   "name": "python3"
  },
  "language_info": {
   "codemirror_mode": {
    "name": "ipython",
    "version": 3
   },
   "file_extension": ".py",
   "mimetype": "text/x-python",
   "name": "python",
   "nbconvert_exporter": "python",
   "pygments_lexer": "ipython3",
   "version": "3.7.13"
  },
  "toc": {
   "base_numbering": 1,
   "nav_menu": {},
   "number_sections": true,
   "sideBar": true,
   "skip_h1_title": false,
   "title_cell": "Table of Contents",
   "title_sidebar": "Contents",
   "toc_cell": false,
   "toc_position": {},
   "toc_section_display": true,
   "toc_window_display": false
  }
 },
 "nbformat": 4,
 "nbformat_minor": 5
}
