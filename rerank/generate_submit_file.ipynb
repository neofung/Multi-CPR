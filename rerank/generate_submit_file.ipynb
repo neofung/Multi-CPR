{
 "cells": [
  {
   "cell_type": "code",
   "execution_count": 2,
   "id": "c08278dd",
   "metadata": {
    "ExecuteTime": {
     "end_time": "2022-12-01T14:24:14.240491Z",
     "start_time": "2022-12-01T14:24:11.998243Z"
    }
   },
   "outputs": [
    {
     "data": {
      "application/vnd.jupyter.widget-view+json": {
       "model_id": "71b79db4407a448bb1ff8363fb3675ed",
       "version_major": 2,
       "version_minor": 0
      },
      "text/plain": [
       "0it [00:00, ?it/s]"
      ]
     },
     "metadata": {},
     "output_type": "display_data"
    }
   ],
   "source": [
    "import logging\n",
    "import os\n",
    "from collections import OrderedDict\n",
    "try:\n",
    "    get_ipython\n",
    "    from tqdm.notebook import tqdm as tqdm\n",
    "except:\n",
    "    from tqdm import tqdm\n",
    "finally:\n",
    "    tqdm().pandas()\n",
    "\n",
    "logger = logging.getLogger(__name__)"
   ]
  },
  {
   "cell_type": "code",
   "execution_count": 3,
   "id": "39e5f92d",
   "metadata": {
    "ExecuteTime": {
     "end_time": "2022-12-01T14:24:21.771640Z",
     "start_time": "2022-12-01T14:24:14.242319Z"
    }
   },
   "outputs": [
    {
     "data": {
      "application/vnd.jupyter.widget-view+json": {
       "model_id": "e7fb90c1173142edb62fdefcf2596c6e",
       "version_major": 2,
       "version_minor": 0
      },
      "text/plain": [
       "  0%|          | 0/1000000 [00:00<?, ?it/s]"
      ]
     },
     "metadata": {},
     "output_type": "display_data"
    },
    {
     "data": {
      "application/vnd.jupyter.widget-view+json": {
       "model_id": "aed542e6853840729dd99ffb22ffa246",
       "version_major": 2,
       "version_minor": 0
      },
      "text/plain": [
       "  0%|          | 0/1000 [00:00<?, ?it/s]"
      ]
     },
     "metadata": {},
     "output_type": "display_data"
    },
    {
     "data": {
      "application/vnd.jupyter.widget-view+json": {
       "model_id": "5d9a61b789d6478ba677279b2bb49211",
       "version_major": 2,
       "version_minor": 0
      },
      "text/plain": [
       "  0%|          | 0/3000000 [00:00<?, ?it/s]"
      ]
     },
     "metadata": {},
     "output_type": "display_data"
    },
    {
     "data": {
      "application/vnd.jupyter.widget-view+json": {
       "model_id": "f2e3ea8ed576416f9a3d1e9f9d813c20",
       "version_major": 2,
       "version_minor": 0
      },
      "text/plain": [
       "  0%|          | 0/3000 [00:00<?, ?it/s]"
      ]
     },
     "metadata": {},
     "output_type": "display_data"
    }
   ],
   "source": [
    "for file_path in [\"result/ecom_bert_base_rank_res\", \"result/medical_bert_base_rank_res\"]:\n",
    "    scenario = file_path.split(\"/\")[-1].split(\"_\")[0]\n",
    "    results = OrderedDict()\n",
    "    with open(file_path) as fin:\n",
    "        for line in tqdm(fin.readlines()):\n",
    "            qid, _, pid, _, score, _ = line.split(\" \")\n",
    "            if qid not in results:\n",
    "                results[qid] = []\n",
    "            results[qid].append((pid, float(score)))\n",
    "    with open(f\"result/{scenario}_test.tsv\", \"w\") as fout:\n",
    "        for key,values in tqdm(results.items(), total=len(results)):\n",
    "            values = sorted(values, key = lambda x:x[1], reverse=True)\n",
    "            values = [t[0] for t in values]\n",
    "            fout.write(f\"{key}\\t{','.join(values[:10])}\\n\")"
   ]
  },
  {
   "cell_type": "code",
   "execution_count": null,
   "id": "8c447143",
   "metadata": {},
   "outputs": [],
   "source": []
  }
 ],
 "metadata": {
  "kernelspec": {
   "display_name": "Python 3",
   "language": "python",
   "name": "python3"
  },
  "language_info": {
   "codemirror_mode": {
    "name": "ipython",
    "version": 3
   },
   "file_extension": ".py",
   "mimetype": "text/x-python",
   "name": "python",
   "nbconvert_exporter": "python",
   "pygments_lexer": "ipython3",
   "version": "3.7.13"
  },
  "toc": {
   "base_numbering": 1,
   "nav_menu": {},
   "number_sections": true,
   "sideBar": true,
   "skip_h1_title": false,
   "title_cell": "Table of Contents",
   "title_sidebar": "Contents",
   "toc_cell": false,
   "toc_position": {},
   "toc_section_display": true,
   "toc_window_display": false
  }
 },
 "nbformat": 4,
 "nbformat_minor": 5
}
